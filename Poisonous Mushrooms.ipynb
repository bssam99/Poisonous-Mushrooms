{
 "cells": [
  {
   "cell_type": "markdown",
   "id": "c074ab9d",
   "metadata": {},
   "source": [
    "## Import"
   ]
  },
  {
   "cell_type": "code",
   "execution_count": 4,
   "id": "62f9bd5d",
   "metadata": {
    "ExecuteTime": {
     "end_time": "2024-09-08T17:54:26.238376Z",
     "start_time": "2024-09-08T17:54:22.085727Z"
    }
   },
   "outputs": [],
   "source": [
    "import pandas as pd\n",
    "from sklearn.preprocessing import MinMaxScaler\n",
    "from sklearn.preprocessing import OrdinalEncoder , LabelEncoder\n",
    "from sklearn.model_selection import train_test_split\n",
    "from sklearn import svm , datasets\n",
    "from sklearn.metrics import confusion_matrix , accuracy_score , f1_score , precision_score , recall_score ,\\\n",
    "classification_report , ConfusionMatrixDisplay\n",
    "from sklearn.model_selection import GridSearchCV\n",
    "import matplotlib.pyplot as plt\n",
    "import seaborn as sns\n",
    "sns.set()"
   ]
  },
  {
   "cell_type": "markdown",
   "id": "da9179a1",
   "metadata": {},
   "source": [
    "## Load the Data"
   ]
  },
  {
   "cell_type": "code",
   "execution_count": 5,
   "id": "86cfe6ed",
   "metadata": {
    "ExecuteTime": {
     "end_time": "2024-09-08T17:54:26.398906Z",
     "start_time": "2024-09-08T17:54:26.245204Z"
    }
   },
   "outputs": [
    {
     "data": {
      "text/html": [
       "<div>\n",
       "<style scoped>\n",
       "    .dataframe tbody tr th:only-of-type {\n",
       "        vertical-align: middle;\n",
       "    }\n",
       "\n",
       "    .dataframe tbody tr th {\n",
       "        vertical-align: top;\n",
       "    }\n",
       "\n",
       "    .dataframe thead th {\n",
       "        text-align: right;\n",
       "    }\n",
       "</style>\n",
       "<table border=\"1\" class=\"dataframe\">\n",
       "  <thead>\n",
       "    <tr style=\"text-align: right;\">\n",
       "      <th></th>\n",
       "      <th>poisonous</th>\n",
       "      <th>cap-shape</th>\n",
       "      <th>cap-surface</th>\n",
       "      <th>cap-color</th>\n",
       "      <th>bruises</th>\n",
       "      <th>odor</th>\n",
       "      <th>gill-attachment</th>\n",
       "      <th>gill-spacing</th>\n",
       "      <th>gill-size</th>\n",
       "      <th>gill-color</th>\n",
       "      <th>...</th>\n",
       "      <th>stalk-surface-below-ring</th>\n",
       "      <th>stalk-color-above-ring</th>\n",
       "      <th>stalk-color-below-ring</th>\n",
       "      <th>veil-type</th>\n",
       "      <th>veil-color</th>\n",
       "      <th>ring-number</th>\n",
       "      <th>ring-type</th>\n",
       "      <th>spore-print-color</th>\n",
       "      <th>population</th>\n",
       "      <th>habitat</th>\n",
       "    </tr>\n",
       "  </thead>\n",
       "  <tbody>\n",
       "    <tr>\n",
       "      <th>0</th>\n",
       "      <td>p</td>\n",
       "      <td>x</td>\n",
       "      <td>s</td>\n",
       "      <td>n</td>\n",
       "      <td>t</td>\n",
       "      <td>p</td>\n",
       "      <td>f</td>\n",
       "      <td>c</td>\n",
       "      <td>n</td>\n",
       "      <td>k</td>\n",
       "      <td>...</td>\n",
       "      <td>s</td>\n",
       "      <td>w</td>\n",
       "      <td>w</td>\n",
       "      <td>p</td>\n",
       "      <td>w</td>\n",
       "      <td>o</td>\n",
       "      <td>p</td>\n",
       "      <td>k</td>\n",
       "      <td>s</td>\n",
       "      <td>u</td>\n",
       "    </tr>\n",
       "    <tr>\n",
       "      <th>1</th>\n",
       "      <td>e</td>\n",
       "      <td>x</td>\n",
       "      <td>s</td>\n",
       "      <td>y</td>\n",
       "      <td>t</td>\n",
       "      <td>a</td>\n",
       "      <td>f</td>\n",
       "      <td>c</td>\n",
       "      <td>b</td>\n",
       "      <td>k</td>\n",
       "      <td>...</td>\n",
       "      <td>s</td>\n",
       "      <td>w</td>\n",
       "      <td>w</td>\n",
       "      <td>p</td>\n",
       "      <td>w</td>\n",
       "      <td>o</td>\n",
       "      <td>p</td>\n",
       "      <td>n</td>\n",
       "      <td>n</td>\n",
       "      <td>g</td>\n",
       "    </tr>\n",
       "    <tr>\n",
       "      <th>2</th>\n",
       "      <td>e</td>\n",
       "      <td>b</td>\n",
       "      <td>s</td>\n",
       "      <td>w</td>\n",
       "      <td>t</td>\n",
       "      <td>l</td>\n",
       "      <td>f</td>\n",
       "      <td>c</td>\n",
       "      <td>b</td>\n",
       "      <td>n</td>\n",
       "      <td>...</td>\n",
       "      <td>s</td>\n",
       "      <td>w</td>\n",
       "      <td>w</td>\n",
       "      <td>p</td>\n",
       "      <td>w</td>\n",
       "      <td>o</td>\n",
       "      <td>p</td>\n",
       "      <td>n</td>\n",
       "      <td>n</td>\n",
       "      <td>m</td>\n",
       "    </tr>\n",
       "    <tr>\n",
       "      <th>3</th>\n",
       "      <td>p</td>\n",
       "      <td>x</td>\n",
       "      <td>y</td>\n",
       "      <td>w</td>\n",
       "      <td>t</td>\n",
       "      <td>p</td>\n",
       "      <td>f</td>\n",
       "      <td>c</td>\n",
       "      <td>n</td>\n",
       "      <td>n</td>\n",
       "      <td>...</td>\n",
       "      <td>s</td>\n",
       "      <td>w</td>\n",
       "      <td>w</td>\n",
       "      <td>p</td>\n",
       "      <td>w</td>\n",
       "      <td>o</td>\n",
       "      <td>p</td>\n",
       "      <td>k</td>\n",
       "      <td>s</td>\n",
       "      <td>u</td>\n",
       "    </tr>\n",
       "    <tr>\n",
       "      <th>4</th>\n",
       "      <td>e</td>\n",
       "      <td>x</td>\n",
       "      <td>s</td>\n",
       "      <td>g</td>\n",
       "      <td>f</td>\n",
       "      <td>n</td>\n",
       "      <td>f</td>\n",
       "      <td>w</td>\n",
       "      <td>b</td>\n",
       "      <td>k</td>\n",
       "      <td>...</td>\n",
       "      <td>s</td>\n",
       "      <td>w</td>\n",
       "      <td>w</td>\n",
       "      <td>p</td>\n",
       "      <td>w</td>\n",
       "      <td>o</td>\n",
       "      <td>e</td>\n",
       "      <td>n</td>\n",
       "      <td>a</td>\n",
       "      <td>g</td>\n",
       "    </tr>\n",
       "    <tr>\n",
       "      <th>...</th>\n",
       "      <td>...</td>\n",
       "      <td>...</td>\n",
       "      <td>...</td>\n",
       "      <td>...</td>\n",
       "      <td>...</td>\n",
       "      <td>...</td>\n",
       "      <td>...</td>\n",
       "      <td>...</td>\n",
       "      <td>...</td>\n",
       "      <td>...</td>\n",
       "      <td>...</td>\n",
       "      <td>...</td>\n",
       "      <td>...</td>\n",
       "      <td>...</td>\n",
       "      <td>...</td>\n",
       "      <td>...</td>\n",
       "      <td>...</td>\n",
       "      <td>...</td>\n",
       "      <td>...</td>\n",
       "      <td>...</td>\n",
       "      <td>...</td>\n",
       "    </tr>\n",
       "    <tr>\n",
       "      <th>8119</th>\n",
       "      <td>e</td>\n",
       "      <td>k</td>\n",
       "      <td>s</td>\n",
       "      <td>n</td>\n",
       "      <td>f</td>\n",
       "      <td>n</td>\n",
       "      <td>a</td>\n",
       "      <td>c</td>\n",
       "      <td>b</td>\n",
       "      <td>y</td>\n",
       "      <td>...</td>\n",
       "      <td>s</td>\n",
       "      <td>o</td>\n",
       "      <td>o</td>\n",
       "      <td>p</td>\n",
       "      <td>o</td>\n",
       "      <td>o</td>\n",
       "      <td>p</td>\n",
       "      <td>b</td>\n",
       "      <td>c</td>\n",
       "      <td>l</td>\n",
       "    </tr>\n",
       "    <tr>\n",
       "      <th>8120</th>\n",
       "      <td>e</td>\n",
       "      <td>x</td>\n",
       "      <td>s</td>\n",
       "      <td>n</td>\n",
       "      <td>f</td>\n",
       "      <td>n</td>\n",
       "      <td>a</td>\n",
       "      <td>c</td>\n",
       "      <td>b</td>\n",
       "      <td>y</td>\n",
       "      <td>...</td>\n",
       "      <td>s</td>\n",
       "      <td>o</td>\n",
       "      <td>o</td>\n",
       "      <td>p</td>\n",
       "      <td>n</td>\n",
       "      <td>o</td>\n",
       "      <td>p</td>\n",
       "      <td>b</td>\n",
       "      <td>v</td>\n",
       "      <td>l</td>\n",
       "    </tr>\n",
       "    <tr>\n",
       "      <th>8121</th>\n",
       "      <td>e</td>\n",
       "      <td>f</td>\n",
       "      <td>s</td>\n",
       "      <td>n</td>\n",
       "      <td>f</td>\n",
       "      <td>n</td>\n",
       "      <td>a</td>\n",
       "      <td>c</td>\n",
       "      <td>b</td>\n",
       "      <td>n</td>\n",
       "      <td>...</td>\n",
       "      <td>s</td>\n",
       "      <td>o</td>\n",
       "      <td>o</td>\n",
       "      <td>p</td>\n",
       "      <td>o</td>\n",
       "      <td>o</td>\n",
       "      <td>p</td>\n",
       "      <td>b</td>\n",
       "      <td>c</td>\n",
       "      <td>l</td>\n",
       "    </tr>\n",
       "    <tr>\n",
       "      <th>8122</th>\n",
       "      <td>p</td>\n",
       "      <td>k</td>\n",
       "      <td>y</td>\n",
       "      <td>n</td>\n",
       "      <td>f</td>\n",
       "      <td>y</td>\n",
       "      <td>f</td>\n",
       "      <td>c</td>\n",
       "      <td>n</td>\n",
       "      <td>b</td>\n",
       "      <td>...</td>\n",
       "      <td>k</td>\n",
       "      <td>w</td>\n",
       "      <td>w</td>\n",
       "      <td>p</td>\n",
       "      <td>w</td>\n",
       "      <td>o</td>\n",
       "      <td>e</td>\n",
       "      <td>w</td>\n",
       "      <td>v</td>\n",
       "      <td>l</td>\n",
       "    </tr>\n",
       "    <tr>\n",
       "      <th>8123</th>\n",
       "      <td>e</td>\n",
       "      <td>x</td>\n",
       "      <td>s</td>\n",
       "      <td>n</td>\n",
       "      <td>f</td>\n",
       "      <td>n</td>\n",
       "      <td>a</td>\n",
       "      <td>c</td>\n",
       "      <td>b</td>\n",
       "      <td>y</td>\n",
       "      <td>...</td>\n",
       "      <td>s</td>\n",
       "      <td>o</td>\n",
       "      <td>o</td>\n",
       "      <td>p</td>\n",
       "      <td>o</td>\n",
       "      <td>o</td>\n",
       "      <td>p</td>\n",
       "      <td>o</td>\n",
       "      <td>c</td>\n",
       "      <td>l</td>\n",
       "    </tr>\n",
       "  </tbody>\n",
       "</table>\n",
       "<p>8124 rows × 22 columns</p>\n",
       "</div>"
      ],
      "text/plain": [
       "     poisonous cap-shape cap-surface cap-color bruises odor gill-attachment  \\\n",
       "0            p         x           s         n       t    p               f   \n",
       "1            e         x           s         y       t    a               f   \n",
       "2            e         b           s         w       t    l               f   \n",
       "3            p         x           y         w       t    p               f   \n",
       "4            e         x           s         g       f    n               f   \n",
       "...        ...       ...         ...       ...     ...  ...             ...   \n",
       "8119         e         k           s         n       f    n               a   \n",
       "8120         e         x           s         n       f    n               a   \n",
       "8121         e         f           s         n       f    n               a   \n",
       "8122         p         k           y         n       f    y               f   \n",
       "8123         e         x           s         n       f    n               a   \n",
       "\n",
       "     gill-spacing gill-size gill-color  ... stalk-surface-below-ring  \\\n",
       "0               c         n          k  ...                        s   \n",
       "1               c         b          k  ...                        s   \n",
       "2               c         b          n  ...                        s   \n",
       "3               c         n          n  ...                        s   \n",
       "4               w         b          k  ...                        s   \n",
       "...           ...       ...        ...  ...                      ...   \n",
       "8119            c         b          y  ...                        s   \n",
       "8120            c         b          y  ...                        s   \n",
       "8121            c         b          n  ...                        s   \n",
       "8122            c         n          b  ...                        k   \n",
       "8123            c         b          y  ...                        s   \n",
       "\n",
       "     stalk-color-above-ring stalk-color-below-ring veil-type veil-color  \\\n",
       "0                         w                      w         p          w   \n",
       "1                         w                      w         p          w   \n",
       "2                         w                      w         p          w   \n",
       "3                         w                      w         p          w   \n",
       "4                         w                      w         p          w   \n",
       "...                     ...                    ...       ...        ...   \n",
       "8119                      o                      o         p          o   \n",
       "8120                      o                      o         p          n   \n",
       "8121                      o                      o         p          o   \n",
       "8122                      w                      w         p          w   \n",
       "8123                      o                      o         p          o   \n",
       "\n",
       "     ring-number ring-type spore-print-color population habitat  \n",
       "0              o         p                 k          s       u  \n",
       "1              o         p                 n          n       g  \n",
       "2              o         p                 n          n       m  \n",
       "3              o         p                 k          s       u  \n",
       "4              o         e                 n          a       g  \n",
       "...          ...       ...               ...        ...     ...  \n",
       "8119           o         p                 b          c       l  \n",
       "8120           o         p                 b          v       l  \n",
       "8121           o         p                 b          c       l  \n",
       "8122           o         e                 w          v       l  \n",
       "8123           o         p                 o          c       l  \n",
       "\n",
       "[8124 rows x 22 columns]"
      ]
     },
     "execution_count": 5,
     "metadata": {},
     "output_type": "execute_result"
    }
   ],
   "source": [
    "data = pd.read_csv(r\"C:\\Users\\bssam\\Downloads\\mushrooms-full-dataset.csv\")\n",
    "data"
   ]
  },
  {
   "cell_type": "markdown",
   "id": "83202247",
   "metadata": {},
   "source": [
    "## Check if the data is Balanced or Not"
   ]
  },
  {
   "cell_type": "code",
   "execution_count": 6,
   "id": "b26512a8",
   "metadata": {
    "ExecuteTime": {
     "end_time": "2024-09-08T17:54:26.415447Z",
     "start_time": "2024-09-08T17:54:26.399419Z"
    }
   },
   "outputs": [
    {
     "data": {
      "text/plain": [
       "poisonous\n",
       "e    4208\n",
       "p    3916\n",
       "Name: count, dtype: int64"
      ]
     },
     "execution_count": 6,
     "metadata": {},
     "output_type": "execute_result"
    }
   ],
   "source": [
    "data['poisonous'].value_counts()"
   ]
  },
  {
   "cell_type": "code",
   "execution_count": 7,
   "id": "b1a14c11",
   "metadata": {
    "ExecuteTime": {
     "end_time": "2024-09-08T17:54:26.436836Z",
     "start_time": "2024-09-08T17:54:26.418951Z"
    }
   },
   "outputs": [
    {
     "data": {
      "text/plain": [
       "poisonous                   0\n",
       "cap-shape                   0\n",
       "cap-surface                 0\n",
       "cap-color                   0\n",
       "bruises                     0\n",
       "odor                        0\n",
       "gill-attachment             0\n",
       "gill-spacing                0\n",
       "gill-size                   0\n",
       "gill-color                  0\n",
       "stalk-shape                 0\n",
       "stalk-surface-above-ring    0\n",
       "stalk-surface-below-ring    0\n",
       "stalk-color-above-ring      0\n",
       "stalk-color-below-ring      0\n",
       "veil-type                   0\n",
       "veil-color                  0\n",
       "ring-number                 0\n",
       "ring-type                   0\n",
       "spore-print-color           0\n",
       "population                  0\n",
       "habitat                     0\n",
       "dtype: int64"
      ]
     },
     "execution_count": 7,
     "metadata": {},
     "output_type": "execute_result"
    }
   ],
   "source": [
    "data.isnull().sum()"
   ]
  },
  {
   "cell_type": "markdown",
   "id": "bd8541d8",
   "metadata": {},
   "source": [
    "## Define Inputs and Targets"
   ]
  },
  {
   "cell_type": "code",
   "execution_count": 8,
   "id": "ac9fee0c",
   "metadata": {
    "ExecuteTime": {
     "end_time": "2024-09-08T17:54:26.450156Z",
     "start_time": "2024-09-08T17:54:26.440325Z"
    }
   },
   "outputs": [],
   "source": [
    "target = data['poisonous']\n",
    "inputs = data.drop(['poisonous'],axis=1)"
   ]
  },
  {
   "cell_type": "markdown",
   "id": "2d483c1e",
   "metadata": {},
   "source": [
    "## Split our Data"
   ]
  },
  {
   "cell_type": "code",
   "execution_count": 9,
   "id": "34e9e14c",
   "metadata": {
    "ExecuteTime": {
     "end_time": "2024-09-08T17:54:26.476201Z",
     "start_time": "2024-09-08T17:54:26.452803Z"
    }
   },
   "outputs": [],
   "source": [
    "x_train , x_test , y_train , y_test = train_test_split(inputs , target , random_state=365 , test_size=0.2 , stratify= target )"
   ]
  },
  {
   "cell_type": "code",
   "execution_count": 10,
   "id": "0c3d2054",
   "metadata": {
    "ExecuteTime": {
     "end_time": "2024-09-08T17:54:26.490064Z",
     "start_time": "2024-09-08T17:54:26.476201Z"
    }
   },
   "outputs": [
    {
     "data": {
      "text/plain": [
       "poisonous\n",
       "e    3366\n",
       "p    3133\n",
       "Name: count, dtype: int64"
      ]
     },
     "execution_count": 10,
     "metadata": {},
     "output_type": "execute_result"
    }
   ],
   "source": [
    "y_train.value_counts()"
   ]
  },
  {
   "cell_type": "markdown",
   "id": "6b6aee22",
   "metadata": {},
   "source": [
    "## Encoding Inputs and Target"
   ]
  },
  {
   "cell_type": "code",
   "execution_count": 11,
   "id": "7d974176",
   "metadata": {
    "ExecuteTime": {
     "end_time": "2024-09-08T17:54:26.497019Z",
     "start_time": "2024-09-08T17:54:26.490064Z"
    }
   },
   "outputs": [],
   "source": [
    "enc_i = OrdinalEncoder()\n",
    "enc_t = LabelEncoder()"
   ]
  },
  {
   "cell_type": "code",
   "execution_count": 12,
   "id": "b859de5d",
   "metadata": {
    "ExecuteTime": {
     "end_time": "2024-09-08T17:54:26.567014Z",
     "start_time": "2024-09-08T17:54:26.499520Z"
    }
   },
   "outputs": [],
   "source": [
    "x_train_transform = enc_i.fit_transform(x_train)\n",
    "x_test_transform = enc_i.transform(x_test)\n",
    "\n",
    "y_train_transform = enc_t.fit_transform(y_train)\n",
    "y_test_transform = enc_t.transform(y_test)"
   ]
  },
  {
   "cell_type": "code",
   "execution_count": 13,
   "id": "6ed2f233",
   "metadata": {
    "ExecuteTime": {
     "end_time": "2024-09-08T17:54:26.575631Z",
     "start_time": "2024-09-08T17:54:26.568523Z"
    }
   },
   "outputs": [
    {
     "data": {
      "text/plain": [
       "array([0, 0, 0, ..., 1, 0, 0])"
      ]
     },
     "execution_count": 13,
     "metadata": {},
     "output_type": "execute_result"
    }
   ],
   "source": [
    "y_train_transform"
   ]
  },
  {
   "cell_type": "markdown",
   "id": "13a35fed",
   "metadata": {},
   "source": [
    "## Rescaling"
   ]
  },
  {
   "cell_type": "code",
   "execution_count": 14,
   "id": "93b78114",
   "metadata": {
    "ExecuteTime": {
     "end_time": "2024-09-08T17:54:26.586422Z",
     "start_time": "2024-09-08T17:54:26.575631Z"
    }
   },
   "outputs": [],
   "source": [
    "scaling = MinMaxScaler(feature_range=(-1 , 1)).fit(x_train_transform)\n",
    "x_train_rescaled = scaling.transform(x_train_transform)"
   ]
  },
  {
   "cell_type": "markdown",
   "id": "15971ff8",
   "metadata": {},
   "source": [
    "## Classification"
   ]
  },
  {
   "cell_type": "markdown",
   "id": "e60c1e73",
   "metadata": {},
   "source": [
    "### Set Parameters"
   ]
  },
  {
   "cell_type": "code",
   "execution_count": 15,
   "id": "b4f12115",
   "metadata": {
    "ExecuteTime": {
     "end_time": "2024-09-08T17:54:26.594042Z",
     "start_time": "2024-09-08T17:54:26.586422Z"
    }
   },
   "outputs": [],
   "source": [
    "c = 1.0\n",
    "kernel = 'linear'"
   ]
  },
  {
   "cell_type": "markdown",
   "id": "e1582078",
   "metadata": {},
   "source": [
    "### Perform SVM Model"
   ]
  },
  {
   "cell_type": "code",
   "execution_count": 16,
   "id": "00e6b004",
   "metadata": {
    "ExecuteTime": {
     "end_time": "2024-09-08T17:54:28.633286Z",
     "start_time": "2024-09-08T17:54:26.594042Z"
    }
   },
   "outputs": [],
   "source": [
    "svc = svm.SVC(kernel = kernel , C= c).fit(x_train_rescaled , y_train_transform)"
   ]
  },
  {
   "cell_type": "code",
   "execution_count": 17,
   "id": "cbb9306e",
   "metadata": {
    "ExecuteTime": {
     "end_time": "2024-09-08T17:54:29.050441Z",
     "start_time": "2024-09-08T17:54:28.640069Z"
    }
   },
   "outputs": [],
   "source": [
    "y_predict = svc.predict(scaling.transform(x_test_transform))"
   ]
  },
  {
   "cell_type": "code",
   "execution_count": 18,
   "id": "2e9a2c00",
   "metadata": {
    "ExecuteTime": {
     "end_time": "2024-09-08T17:54:29.060723Z",
     "start_time": "2024-09-08T17:54:29.050441Z"
    }
   },
   "outputs": [
    {
     "data": {
      "text/plain": [
       "array([1, 1, 1, ..., 1, 1, 0])"
      ]
     },
     "execution_count": 18,
     "metadata": {},
     "output_type": "execute_result"
    }
   ],
   "source": [
    "y_predict"
   ]
  },
  {
   "cell_type": "markdown",
   "id": "ca24953d",
   "metadata": {},
   "source": [
    "## Model Evaluation"
   ]
  },
  {
   "cell_type": "code",
   "execution_count": 19,
   "id": "cab2c82e",
   "metadata": {
    "ExecuteTime": {
     "end_time": "2024-09-08T17:54:29.530262Z",
     "start_time": "2024-09-08T17:54:29.060723Z"
    }
   },
   "outputs": [
    {
     "data": {
      "image/png": "[encoded data removed]",
      "text/plain": [
       "<Figure size 800x500 with 2 Axes>"
      ]
     },
     "metadata": {},
     "output_type": "display_data"
    }
   ],
   "source": [
    "fig , ax = plt.subplots(figsize = (8,5))\n",
    "\n",
    "cmp = ConfusionMatrixDisplay(confusion_matrix(y_test_transform , y_predict),display_labels=['Edible' , 'Posinous'])\n",
    "\n",
    "cmp.plot(ax=ax);"
   ]
  },
  {
   "cell_type": "code",
   "execution_count": 20,
   "id": "8229b57b",
   "metadata": {
    "ExecuteTime": {
     "end_time": "2024-09-08T17:54:29.555236Z",
     "start_time": "2024-09-08T17:54:29.530262Z"
    }
   },
   "outputs": [
    {
     "name": "stdout",
     "output_type": "stream",
     "text": [
      "              precision    recall  f1-score   support\n",
      "\n",
      "      Edible       0.94      0.97      0.96       842\n",
      "    Poisnous       0.97      0.93      0.95       783\n",
      "\n",
      "    accuracy                           0.95      1625\n",
      "   macro avg       0.95      0.95      0.95      1625\n",
      "weighted avg       0.95      0.95      0.95      1625\n",
      "\n"
     ]
    }
   ],
   "source": [
    "print(classification_report(y_test_transform, y_predict , target_names=['Edible' , 'Poisnous']))"
   ]
  },
  {
   "cell_type": "markdown",
   "id": "b810d7f2",
   "metadata": {},
   "source": [
    "## GridSearch"
   ]
  },
  {
   "cell_type": "code",
   "execution_count": 21,
   "id": "1dee04af",
   "metadata": {
    "ExecuteTime": {
     "end_time": "2024-09-08T17:54:29.563044Z",
     "start_time": "2024-09-08T17:54:29.555236Z"
    }
   },
   "outputs": [],
   "source": [
    "parameters = [{'kernel':['linear'],'C':[1,10]},\n",
    "             {'kernel':['poly'],'C':[1,10]},\n",
    "                {'kernel':['rbf'], 'gamma':[1e-1,1e-4] ,'C':[1,10]}]"
   ]
  },
  {
   "cell_type": "code",
   "execution_count": 22,
   "id": "980cbc86",
   "metadata": {
    "ExecuteTime": {
     "end_time": "2024-09-08T17:54:29.570396Z",
     "start_time": "2024-09-08T17:54:29.563044Z"
    }
   },
   "outputs": [],
   "source": [
    "scores = [\"precision\", \"recall\"]"
   ]
  },
  {
   "cell_type": "code",
   "execution_count": 23,
   "id": "39ef2882",
   "metadata": {
    "ExecuteTime": {
     "end_time": "2024-09-08T17:57:28.457934Z",
     "start_time": "2024-09-08T17:54:29.570396Z"
    }
   },
   "outputs": [
    {
     "name": "stdout",
     "output_type": "stream",
     "text": [
      "# Tuning hyper-parameters for precision\n",
      "\n",
      "Best parameters set found on development set:\n",
      "\n",
      "{'C': 1, 'kernel': 'poly'}\n",
      "\n",
      "Grid scores on development set:\n",
      "\n",
      "0.952 (+/-0.013) for {'C': 1, 'kernel': 'linear'}\n",
      "0.954 (+/-0.009) for {'C': 10, 'kernel': 'linear'}\n",
      "1.000 (+/-0.000) for {'C': 1, 'kernel': 'poly'}\n",
      "1.000 (+/-0.000) for {'C': 10, 'kernel': 'poly'}\n",
      "1.000 (+/-0.000) for {'C': 1, 'gamma': 0.1, 'kernel': 'rbf'}\n",
      "0.894 (+/-0.014) for {'C': 1, 'gamma': 0.0001, 'kernel': 'rbf'}\n",
      "1.000 (+/-0.000) for {'C': 10, 'gamma': 0.1, 'kernel': 'rbf'}\n",
      "0.927 (+/-0.004) for {'C': 10, 'gamma': 0.0001, 'kernel': 'rbf'}\n",
      "\n",
      "Detailed classification report:\n",
      "\n",
      "The model is trained on the full development set.\n",
      "The scores are computed on the full evaluation set.\n",
      "\n",
      "              precision    recall  f1-score   support\n",
      "\n",
      "           0       1.00      1.00      1.00       842\n",
      "           1       1.00      1.00      1.00       783\n",
      "\n",
      "    accuracy                           1.00      1625\n",
      "   macro avg       1.00      1.00      1.00      1625\n",
      "weighted avg       1.00      1.00      1.00      1625\n",
      "\n",
      "\n",
      "# Tuning hyper-parameters for recall\n",
      "\n",
      "Best parameters set found on development set:\n",
      "\n",
      "{'C': 1, 'kernel': 'poly'}\n",
      "\n",
      "Grid scores on development set:\n",
      "\n",
      "0.952 (+/-0.014) for {'C': 1, 'kernel': 'linear'}\n",
      "0.953 (+/-0.009) for {'C': 10, 'kernel': 'linear'}\n",
      "1.000 (+/-0.000) for {'C': 1, 'kernel': 'poly'}\n",
      "1.000 (+/-0.000) for {'C': 10, 'kernel': 'poly'}\n",
      "1.000 (+/-0.000) for {'C': 1, 'gamma': 0.1, 'kernel': 'rbf'}\n",
      "0.884 (+/-0.016) for {'C': 1, 'gamma': 0.0001, 'kernel': 'rbf'}\n",
      "1.000 (+/-0.000) for {'C': 10, 'gamma': 0.1, 'kernel': 'rbf'}\n",
      "0.924 (+/-0.004) for {'C': 10, 'gamma': 0.0001, 'kernel': 'rbf'}\n",
      "\n",
      "Detailed classification report:\n",
      "\n",
      "The model is trained on the full development set.\n",
      "The scores are computed on the full evaluation set.\n",
      "\n",
      "              precision    recall  f1-score   support\n",
      "\n",
      "           0       1.00      1.00      1.00       842\n",
      "           1       1.00      1.00      1.00       783\n",
      "\n",
      "    accuracy                           1.00      1625\n",
      "   macro avg       1.00      1.00      1.00      1625\n",
      "weighted avg       1.00      1.00      1.00      1625\n",
      "\n",
      "\n"
     ]
    }
   ],
   "source": [
    "for score in scores:\n",
    "    print(\"# Tuning hyper-parameters for %s\" % score)\n",
    "    print()\n",
    "\n",
    "    clf = GridSearchCV(svm.SVC(), parameters, scoring='%s_macro' % score)\n",
    "    clf.fit(x_train_rescaled, y_train_transform)\n",
    "\n",
    "    print(\"Best parameters set found on development set:\")\n",
    "    print()\n",
    "    print(clf.best_params_)\n",
    "    print()\n",
    "    print(\"Grid scores on development set:\")\n",
    "    print()\n",
    "    means = clf.cv_results_[\"mean_test_score\"]\n",
    "    stds = clf.cv_results_[\"std_test_score\"]\n",
    "    for mean, std, params in zip(means, stds, clf.cv_results_[\"params\"]):\n",
    "        print(\"%0.3f (+/-%0.03f) for %r\" % (mean, std * 2, params))\n",
    "    print()\n",
    "\n",
    "    print(\"Detailed classification report:\")\n",
    "    print()\n",
    "    print(\"The model is trained on the full development set.\")\n",
    "    print(\"The scores are computed on the full evaluation set.\")\n",
    "    print()\n",
    "    y_true, y_pred = y_test_transform, clf.predict(scaling.transform(x_test_transform))\n",
    "    print(classification_report(y_true, y_pred))\n",
    "    print()"
   ]
  },
  {
   "cell_type": "code",
   "execution_count": 24,
   "id": "e073cb26",
   "metadata": {
    "ExecuteTime": {
     "end_time": "2024-09-08T17:57:29.070194Z",
     "start_time": "2024-09-08T17:57:28.457934Z"
    }
   },
   "outputs": [],
   "source": [
    "svc_gridsearch = svm.SVC(kernel = 'poly' , C= 1).fit(x_train_rescaled , y_train_transform)\n",
    "y_predict_gridsearch = svc_gridsearch.predict(scaling.transform(x_test_transform))"
   ]
  },
  {
   "cell_type": "code",
   "execution_count": 25,
   "id": "c01048d6",
   "metadata": {
    "ExecuteTime": {
     "end_time": "2024-09-08T17:57:29.307349Z",
     "start_time": "2024-09-08T17:57:29.070194Z"
    }
   },
   "outputs": [
    {
     "data": {
      "image/png": "[encoded data removed]",
      "text/plain": [
       "<Figure size 800x500 with 2 Axes>"
      ]
     },
     "metadata": {},
     "output_type": "display_data"
    }
   ],
   "source": [
    "fig , ax = plt.subplots(figsize = (8,5))\n",
    "\n",
    "cmp1 = ConfusionMatrixDisplay(confusion_matrix(y_test_transform , y_predict_gridsearch),display_labels=['Edible' , 'Posinous'])\n",
    "\n",
    "cmp1.plot(ax=ax);"
   ]
  },
  {
   "cell_type": "code",
   "execution_count": null,
   "id": "1c29d41e",
   "metadata": {},
   "outputs": [],
   "source": []
  }
 ],
 "metadata": {
  "kernelspec": {
   "display_name": "Python 3 (ipykernel)",
   "language": "python",
   "name": "python3"
  },
  "language_info": {
   "codemirror_mode": {
    "name": "ipython",
    "version": 3
   },
   "file_extension": ".py",
   "mimetype": "text/x-python",
   "name": "python",
   "nbconvert_exporter": "python",
   "pygments_lexer": "ipython3",
   "version": "3.11.9"
  }
 },
 "nbformat": 4,
 "nbformat_minor": 5
}
